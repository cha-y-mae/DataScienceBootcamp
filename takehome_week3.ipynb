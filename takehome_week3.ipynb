{
 "cells": [
  {
   "cell_type": "markdown",
   "id": "68ea6186",
   "metadata": {},
   "source": [
    "Numpy Practice Questions"
   ]
  },
  {
   "cell_type": "code",
   "execution_count": 2,
   "id": "f281afc8",
   "metadata": {},
   "outputs": [],
   "source": [
    "# 1. Define two custom numpy arrays, say A and B. Generate two new numpy arrays by stacking A and B vertically and \n",
    "# horizontally.\n",
    "import numpy as np\n",
    "A = np.array([1, 2, 3])\n",
    "B = np.array([4, 5, 6])\n",
    "vertical_stack = np.vstack((A, B))\n",
    "horizontal_stack = np.hstack((A, B))\n"
   ]
  },
  {
   "cell_type": "code",
   "execution_count": 7,
   "id": "dc748728",
   "metadata": {},
   "outputs": [],
   "source": [
    "# 2. Find common elements between A and B. [Hint : Intersection of two sets]\n",
    "common_elems = np.intersect1d(A, B)"
   ]
  },
  {
   "cell_type": "code",
   "execution_count": 11,
   "id": "da815f1e",
   "metadata": {},
   "outputs": [],
   "source": [
    "# 3. Extract all numbers from A which are within a specific range. eg between 5 and 10. [Hint: np.where() might be useful or boolean masks]\n",
    "lower_bound = 2\n",
    "upper_bound = 10\n",
    "mask = (A >= lower_bound) & (A <= upper_bound)\n",
    "result = A[mask]"
   ]
  },
  {
   "cell_type": "code",
   "execution_count": 13,
   "id": "e95fcc2c",
   "metadata": {},
   "outputs": [],
   "source": [
    "# 4. Filter the rows of iris_2d that has petallength (3rd column) > 1.5 and sepallength (1st column) < 5.0\n",
    "url = 'https://archive.ics.uci.edu/ml/machine-learning-databases/iris/iris.data'\n",
    "iris_2d = np.genfromtxt(url, delimiter=',', dtype='float', usecols=[0, 1, 2, 3])\n",
    "petal_length_condition = iris_2d[:, 2] > 1.5\n",
    "sepal_length_condition = iris_2d[:, 0] < 5.0\n",
    "filtered_rows = iris_2d[petal_length_condition & sepal_length_condition]"
   ]
  },
  {
   "cell_type": "markdown",
   "id": "6ea1073c",
   "metadata": {},
   "source": [
    "Practice Questions for Pandas"
   ]
  },
  {
   "cell_type": "code",
   "execution_count": 17,
   "id": "709051af",
   "metadata": {},
   "outputs": [
    {
     "name": "stdout",
     "output_type": "stream",
     "text": [
      "   Manufacturer    Model     Type\n",
      "0         Acura  Integra    Small\n",
      "20     Chrysler  LeBaron  Compact\n",
      "40        Honda  Prelude   Sporty\n",
      "60      Mercury   Cougar  Midsize\n",
      "80       Subaru   Loyale    Small\n"
     ]
    }
   ],
   "source": [
    "# 1. From df filter the 'Manufacturer', 'Model' and 'Type' for every 20th row starting from 1st (row 0).\n",
    "import pandas as pd\n",
    "df = pd.read_csv('https://raw.githubusercontent.com/selva86/datasets/master/Cars93_miss.csv')\n",
    "filtered_df = df.iloc[::20, :][['Manufacturer', 'Model', 'Type']]\n",
    "print(filtered_df)"
   ]
  },
  {
   "cell_type": "code",
   "execution_count": 18,
   "id": "117e0e84",
   "metadata": {},
   "outputs": [],
   "source": [
    "# 2. Replace missing values in Min.Price and Max.Price columns with their respective mean.\n",
    "df = pd.read_csv('https://raw.githubusercontent.com/selva86/datasets/master/Cars93_miss.csv')\n",
    "min_price_mean = df['Min.Price'].mean()\n",
    "max_price_mean = df['Max.Price'].mean()"
   ]
  },
  {
   "cell_type": "code",
   "execution_count": 19,
   "id": "cfa6ad2e",
   "metadata": {},
   "outputs": [
    {
     "name": "stdout",
     "output_type": "stream",
     "text": [
      "     0   1   2   3\n",
      "0   22  32  14  33\n",
      "2   32  30  22  27\n",
      "5   25  28  16  39\n",
      "6   38  33  14  28\n",
      "8   27  31  10  38\n",
      "10  28  21  26  33\n",
      "13  10  36  26  38\n",
      "14  24  33  27  22\n"
     ]
    }
   ],
   "source": [
    "# 3. How to get the rows of a dataframe with row sum > 100?\n",
    "df = pd.DataFrame(np.random.randint(10, 40, 60).reshape(-1, 4))\n",
    "row_sums = df.sum(axis=1)\n",
    "result = df[row_sums > 100]\n",
    "print(result)"
   ]
  },
  {
   "cell_type": "code",
   "execution_count": null,
   "id": "bca4b123",
   "metadata": {},
   "outputs": [],
   "source": []
  }
 ],
 "metadata": {
  "kernelspec": {
   "display_name": "Python 3 (ipykernel)",
   "language": "python",
   "name": "python3"
  },
  "language_info": {
   "codemirror_mode": {
    "name": "ipython",
    "version": 3
   },
   "file_extension": ".py",
   "mimetype": "text/x-python",
   "name": "python",
   "nbconvert_exporter": "python",
   "pygments_lexer": "ipython3",
   "version": "3.10.11"
  }
 },
 "nbformat": 4,
 "nbformat_minor": 5
}
