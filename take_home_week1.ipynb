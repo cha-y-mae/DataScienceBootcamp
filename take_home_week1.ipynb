{
 "cells": [
  {
   "cell_type": "code",
   "execution_count": 28,
   "id": "d6eac334",
   "metadata": {},
   "outputs": [
    {
     "name": "stdout",
     "output_type": "stream",
     "text": [
      "0\n",
      "1\n",
      "1\n",
      "2\n",
      "3\n",
      "5\n",
      "8\n",
      "13\n",
      "21\n",
      "34\n"
     ]
    }
   ],
   "source": [
    "# Display Fibonacci Series up to 10 terms\n",
    "nterms = 10\n",
    "n1, n2 = 0, 1\n",
    "count = 0\n",
    "while count < nterms:\n",
    "    print(n1)\n",
    "    nth = n1 + n2\n",
    "    n1 = n2\n",
    "    n2 = nth\n",
    "    count += 1"
   ]
  },
  {
   "cell_type": "code",
   "execution_count": 27,
   "id": "b4a46876",
   "metadata": {},
   "outputs": [
    {
     "name": "stdout",
     "output_type": "stream",
     "text": [
      "[2, 4, 8]\n"
     ]
    }
   ],
   "source": [
    "# Display numbers at the odd indices of a list\n",
    "lst[1::2]"
   ]
  },
  {
   "cell_type": "code",
   "execution_count": 2,
   "id": "f6ef7f94",
   "metadata": {},
   "outputs": [],
   "source": [
    "# Print a list in reverse order\n",
    "lst[::-1]"
   ]
  },
  {
   "cell_type": "code",
   "execution_count": 25,
   "id": "b97fbf9c",
   "metadata": {},
   "outputs": [
    {
     "data": {
      "text/plain": [
       "{'ChatGPT': 1,\n",
       " 'has': 1,\n",
       " 'created': 1,\n",
       " 'this': 1,\n",
       " 'text': 1,\n",
       " 'to': 2,\n",
       " 'provide': 1,\n",
       " 'tips': 1,\n",
       " 'on': 1,\n",
       " 'creating': 1,\n",
       " 'interesting': 1,\n",
       " 'paragraphs': 1,\n",
       " 'First': 1,\n",
       " 'start': 1,\n",
       " 'with': 3,\n",
       " 'a': 2,\n",
       " 'clear': 1,\n",
       " 'topic': 2,\n",
       " 'sentence': 4,\n",
       " 'that': 2,\n",
       " 'introduces': 1,\n",
       " 'the': 5,\n",
       " 'main': 2,\n",
       " 'idea': 1,\n",
       " 'Then': 1,\n",
       " 'support': 1,\n",
       " 'specific': 1,\n",
       " 'details': 1,\n",
       " 'examples': 1,\n",
       " 'and': 2,\n",
       " 'evidenceVary': 1,\n",
       " 'length': 1,\n",
       " 'structure': 1,\n",
       " 'keep': 1,\n",
       " 'reader': 1,\n",
       " 'engagedFinally': 1,\n",
       " 'end': 1,\n",
       " 'strong': 1,\n",
       " 'concluding': 1,\n",
       " 'summarizes': 1,\n",
       " 'pointsRemember': 1,\n",
       " 'practice': 1,\n",
       " 'makes': 1,\n",
       " 'perfect': 1}"
      ]
     },
     "execution_count": 25,
     "metadata": {},
     "output_type": "execute_result"
    }
   ],
   "source": [
    "# Your task is to count the number of different words in this text\n",
    "\n",
    "string = \"\"\"ChatGPT has created this text to provide tips on creating interesting paragraphs. First, start with a clear topic sentence that introduces the main idea. Then, support the topic sentence with specific details, examples, and evidence.Vary the sentence length and structure to keep the reader engaged.Finally, end with a strong concluding sentence that summarizes the main points.Remember, practice makes perfect!\"\"\"\n",
    "words=string.replace(',','').replace('!', '').replace('.', '').split()\n",
    "f={}\n",
    "for word in words:\n",
    "    if word not in f:\n",
    "        f[word]=1\n",
    "    else:\n",
    "        f[word]+=1\n",
    "f"
   ]
  },
  {
   "cell_type": "code",
   "execution_count": 4,
   "id": "b2381277",
   "metadata": {},
   "outputs": [],
   "source": [
    "# Write a function that takes a word as an argument and returns the number of vowels in the word\n",
    "def num_vowels(word): \n",
    "    count = 0\n",
    "    for i in word:\n",
    "        if i in \"aeiouAEIOU\":\n",
    "            count += 1\n",
    "    return count"
   ]
  },
  {
   "cell_type": "code",
   "execution_count": 34,
   "id": "3fd0f34d",
   "metadata": {},
   "outputs": [
    {
     "data": {
      "text/plain": [
       "['TIGER', 'ELEPHANT', 'MONKEY', 'ZEBRA', 'PANTHER']"
      ]
     },
     "execution_count": 34,
     "metadata": {},
     "output_type": "execute_result"
    }
   ],
   "source": [
    "# Iterate through the following list of animals and print each one in all caps.\n",
    "animals=['tiger', 'elephant', 'monkey', 'zebra', 'panther']\n",
    "for i in range(len(animals)):\n",
    "    print(animals[i].upper())"
   ]
  },
  {
   "cell_type": "code",
   "execution_count": 37,
   "id": "ba95bcf7",
   "metadata": {},
   "outputs": [
    {
     "name": "stdout",
     "output_type": "stream",
     "text": [
      "1 is odd\n",
      "2 is even\n",
      "3 is odd\n",
      "4 is even\n",
      "5 is odd\n",
      "6 is even\n",
      "7 is odd\n",
      "8 is even\n",
      "9 is odd\n",
      "10 is even\n",
      "11 is odd\n",
      "12 is even\n",
      "13 is odd\n",
      "14 is even\n",
      "15 is odd\n"
     ]
    }
   ],
   "source": [
    "# Iterate from 1 to 15, printing whether the number is odd or even\n",
    "for i in range(1, 16): \n",
    "    if i%2==0:\n",
    "        print(i, \"is even\")\n",
    "    else: \n",
    "        print(i, \"is odd\")"
   ]
  },
  {
   "cell_type": "code",
   "execution_count": 38,
   "id": "196b73f6",
   "metadata": {},
   "outputs": [
    {
     "name": "stdout",
     "output_type": "stream",
     "text": [
      "Enter first number: 1\n",
      "Enter second number: 2\n",
      "Sum of two numbers is:  3\n"
     ]
    }
   ],
   "source": [
    "# Take two integers as input from user and return the sum\n",
    "n1 = int(input(\"Enter first number: \"))\n",
    "n2 = int(input(\"Enter second number: \"))\n",
    "print(\"Sum of two numbers is: \", n1+n2)"
   ]
  },
  {
   "cell_type": "code",
   "execution_count": null,
   "id": "03f8c9d6",
   "metadata": {},
   "outputs": [],
   "source": []
  }
 ],
 "metadata": {
  "kernelspec": {
   "display_name": "Python 3 (ipykernel)",
   "language": "python",
   "name": "python3"
  },
  "language_info": {
   "codemirror_mode": {
    "name": "ipython",
    "version": 3
   },
   "file_extension": ".py",
   "mimetype": "text/x-python",
   "name": "python",
   "nbconvert_exporter": "python",
   "pygments_lexer": "ipython3",
   "version": "3.10.11"
  }
 },
 "nbformat": 4,
 "nbformat_minor": 5
}
